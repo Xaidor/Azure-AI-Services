{
 "cells": [
  {
   "cell_type": "code",
   "execution_count": null,
   "id": "d76ab1ca-9396-445d-8e2e-9fc843e77ff8",
   "metadata": {
    "tags": []
   },
   "outputs": [],
   "source": [
    "%pip install azure-ai-translation-text"
   ]
  },
  {
   "cell_type": "code",
   "execution_count": 2,
   "id": "787e76a5-3ed9-4932-a5fe-4b6d3c414259",
   "metadata": {
    "tags": []
   },
   "outputs": [],
   "source": [
    "from azure.core.credentials import AzureKeyCredential\n",
    "from azure.ai.translation.text import TextTranslationClient"
   ]
  },
  {
   "cell_type": "code",
   "execution_count": 3,
   "id": "66347a9c-9ad6-44ab-bac0-500ede40c735",
   "metadata": {
    "tags": []
   },
   "outputs": [],
   "source": [
    "region = \"westus\"\n",
    "key = \"<your-api-key>\""
   ]
  },
  {
   "cell_type": "code",
   "execution_count": 4,
   "id": "c3688d7e-a5a5-4f2a-af02-ebb546cbb63e",
   "metadata": {
    "tags": []
   },
   "outputs": [],
   "source": [
    "credential = AzureKeyCredential(key)\n",
    "text_translator = TextTranslationClient(credential=credential, region=region)"
   ]
  },
  {
   "cell_type": "code",
   "execution_count": 5,
   "id": "da838fd7-0234-4816-a8ee-22f1fc8628b5",
   "metadata": {
    "tags": []
   },
   "outputs": [
    {
     "name": "stdout",
     "output_type": "stream",
     "text": [
      "Detected languages of the input text: fil.\n",
      "Text was translated to: 'en' and the result is: 'That was a smooth run'.\n"
     ]
    }
   ],
   "source": [
    "try:\n",
    "    to_language = [\"en\"]\n",
    "    input_text_elements = [\"Iyon ay isang maayos na pagtakbo\"]\n",
    "\n",
    "    response = text_translator.translate(body=input_text_elements, to_language=to_language)\n",
    "    translation = response[0] if response else None\n",
    "\n",
    "    if translation:\n",
    "        detected_language = translation.detected_language\n",
    "        if detected_language:\n",
    "            print(\n",
    "                f\"Detected languages of the input text: {detected_language.language}.\"\n",
    "            )\n",
    "        for translated_text in translation.translations:\n",
    "            print(f\"Text was translated to: '{translated_text.to}' and the result is: '{translated_text.text}'.\")\n",
    "\n",
    "except HttpResponseError as exception:\n",
    "    if exception.error is not None:\n",
    "        print(f\"Error Code: {exception.error.code}\")\n",
    "        print(f\"Message: {exception.error.message}\")\n",
    "    raise"
   ]
  }
 ],
 "metadata": {
  "kernelspec": {
   "display_name": "Python 3.10 - SDK v2",
   "language": "python",
   "name": "python310-sdkv2"
  },
  "language_info": {
   "codemirror_mode": {
    "name": "ipython",
    "version": 3
   },
   "file_extension": ".py",
   "mimetype": "text/x-python",
   "name": "python",
   "nbconvert_exporter": "python",
   "pygments_lexer": "ipython3",
   "version": "3.10.14"
  }
 },
 "nbformat": 4,
 "nbformat_minor": 5
}
